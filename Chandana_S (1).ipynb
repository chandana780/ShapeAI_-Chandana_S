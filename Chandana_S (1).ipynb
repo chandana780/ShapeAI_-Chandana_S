{
  "nbformat": 4,
  "nbformat_minor": 0,
  "metadata": {
    "colab": {
      "name": "Chandana S.ipynb",
      "provenance": []
    },
    "kernelspec": {
      "name": "python3",
      "display_name": "Python 3"
    },
    "language_info": {
      "name": "python"
    }
  },
  "cells": [
    {
      "cell_type": "code",
      "metadata": {
        "id": "qKdFcKG-1ewg"
      },
      "source": [
        "from keras.datasets import mnist\n",
        "\n",
        "data = mnist.load_data()\n",
        "-----------------------------------------------------------------------------------------------\n",
        "\n",
        "((X_train, y_train), (X_test, y_test)) = data\n",
        "\n",
        "-----------------------------------------------------------------------------------------------\n",
        "\n",
        "X_train = X_train.reshape((X_train.shape[0], 28*28)).astype('float32')\n",
        "X_test = X_test.reshape((X_test.shape[0], 28*28)).astype('float32')\n",
        "\n",
        "-------------------------------------------------------------------------------------------------\n",
        "\n",
        "X_train = X_train / 255 \n",
        "X_test = X_test / 255\n",
        "\n",
        "------------------------------------------------------------------------------------------------\n",
        "\n",
        "from keras.utils import np_utils\n",
        "\n",
        "print(y_test.shape)\n",
        "\n",
        "y_train = np_utils.to_categorical(y_train)\n",
        "y_test = np_utils.to_categorical(y_test)\n",
        "\n",
        "num_classes = y_test.shape[1]\n",
        "print(y_test.shape)\n",
        "\n",
        "-----------------------------------------------------------------------------------------------------\n",
        "\n",
        "from keras.models import Sequential\n",
        "from keras.layers import Dense\n",
        "\n",
        "------------------------------------------------------------------------------------------------------\n",
        "\n",
        "model = Sequential()\n",
        "model.add(Dense(32, input_dim = 28*28, activation='relu'))\n",
        "model.add(Dense(64, activation='relu'))\n",
        "model.add(Dense(10, activation='softmax'))\n",
        "\n",
        "-----------------------------------------------------------------------------------------------------------\n",
        "\n",
        "model.compile(loss='categorical_crossentropy', optimizer='adam', metrics=['accuracy'])\n",
        "\n",
        "--------------------------------------------------------------------------------------------------------------\n",
        "\n",
        "model.summary()\n",
        "\n",
        "----------------------------------------------------------------------------------------------------------------\n",
        "\n",
        "model.fit(X_train, y_train, epochs=10, batch_size=100)\n",
        "\n",
        "---------------------------------------------------------------------------------------------------------------------\n",
        "\n",
        "scores = model.evaluate(X_test, y_test)\n",
        "print(scores)\n",
        "\n",
        "-------------------------------------------------------------------------------------------------------------------------\n"
      ],
      "execution_count": null,
      "outputs": []
    }
  ]
}